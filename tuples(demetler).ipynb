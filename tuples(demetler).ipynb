{
 "cells": [
  {
   "cell_type": "markdown",
   "id": "4e64d877-8a98-497d-8173-62af116a1f6f",
   "metadata": {},
   "source": [
    "# DEMETLER #\n",
    "Python'da demetler, değiştirilemez (immutable) bir veri tipidir. Demetler, birbirinden farklı veri tiplerinden \r\n",
    "elemanları içinde barındırabilir ve parantez () kullanılarak tanımlanır.\r\n",
    "\r\n",
    "Örnek olarak, aşağıdaki gibi bir demet tanımlayabilirsiniz:\r\n",
    "\r\n",
    "my_tuple = (1, \"iki\", 3.,, [4, 5])\r\n",
    "\r\n",
    "Bu demet, bir tamsayı, bir karakter dizisi, bir ondalık sayı ve bir liste içerir.\r\n",
    "\r\n",
    "Demet elemanlarına erişmek için indeksleme kullanabilirsiniz. İndeksler sıfırdan başlar. Örneğin:\r\n",
    "\r\n",
    "print(my_tuple[0]) # 1\r\n",
    "print(my_tuple[1]) # \"iki\"\r\n",
    "\r\n",
    "Demetler, değiştirilemez olduğu için, elemanlarını değiştiremezsiniz. Ancak, demetlerin belli bir elemanını alarak yeni \r\n",
    "bir demet oluşturabilirsiniz. Örneğin:\r\n",
    "\r\n",
    "new_tuple = my_tuple[:2] + (4, 5)\r\n",
    "print(new_tuple) #\n",
    "Tek elemanlı bir demet oluşturmak için elemandan sonra bir virgül eklememiz gerek. Aksi takdirde hata verir veya\r\n",
    "değişkenin bir demet türünde olduğunu anlamaz\n",
    "\n",
    "demet=(10) # bu yanlış bir kullanımdır. hata verir. elemandan sonra bir virgül eklememiz gerek.\n",
    "demet = (10,). (1, 'iki', 4, 5)\r\n"
   ]
  },
  {
   "cell_type": "code",
   "execution_count": null,
   "id": "def28cb0-4eb9-462c-be86-4a0ef2c98567",
   "metadata": {},
   "outputs": [],
   "source": [
    "demet = (\"sarı\", \"mavi\", \"yeşil\", \"kırmızı\", \"siyah\")\n",
    "print(type(demet))\n",
    "print(len(demet))\n"
   ]
  },
  {
   "cell_type": "markdown",
   "id": "fee66b0a-54c1-444c-9a2d-dbb374cd4b70",
   "metadata": {},
   "source": [
    "# DEMET VE LİSTE FARKI #\n",
    "Python'da, demetler (tuples) ve listeler (lists) iki farklı veri yapısıdır ve her birinin kendine özgü özellikleri vardır. İşte demetler ve listeler arasındaki temel farkları açıklayan birkaç nokta:\r\n",
    "\r\n",
    "Değiştirilebilirlik: Demetler değiştirilemez (immutable) veri yapılarıdır, yani bir kez oluşturulduktan sonra içerikleri değiştirilemez. Öte yandan, listeler değiştirilebilir (mutable) veri yapılarıdır ve içeriklerini istediğiniz gibi değiştirebilirsini\n",
    "\n",
    "demet = (1, 2, 3)\r\n",
    "demet[0] = 4  # Hata! Demetler değiştirilemez.\r\n",
    "\r\n",
    "liste = [1, 2, 3]\r\n",
    "liste[0] = 4  # Başarılı! Listenin ilk elemanını değiştirebili\n",
    "\n",
    "Bu sebeple listelerde bulunan \"append\", \"insert\", \"remove\" gibi komutlar demetlerde kullanılamaz.iz.\r\n",
    "z."
   ]
  },
  {
   "cell_type": "code",
   "execution_count": 1,
   "id": "762f23ef-f0d6-4980-b367-7c6152d4341d",
   "metadata": {},
   "outputs": [
    {
     "name": "stdout",
     "output_type": "stream",
     "text": [
      "1\n",
      "('iki', 3.0)\n"
     ]
    }
   ],
   "source": [
    "demet = (1, \"iki\", 3.0, [4, 5])\n",
    "print(demet[0])\n",
    "print(demet[1:3])\n"
   ]
  },
  {
   "cell_type": "code",
   "execution_count": 2,
   "id": "714c9863-f8ee-4fdd-bfe8-36edff2c95bf",
   "metadata": {},
   "outputs": [
    {
     "name": "stdout",
     "output_type": "stream",
     "text": [
      "(10, 20, 30, 40, 50, 60)\n"
     ]
    }
   ],
   "source": [
    "a = (10, 20, 30)\n",
    "b = (40, 50, 60)\n",
    "c = a + b\n",
    "print(c)"
   ]
  },
  {
   "cell_type": "code",
   "execution_count": 3,
   "id": "ba64a3e4-7332-4903-90df-2885ec5ba524",
   "metadata": {},
   "outputs": [
    {
     "name": "stdout",
     "output_type": "stream",
     "text": [
      "(15, 20, 'merhaba', 15, 20, 'merhaba', 15, 20, 'merhaba')\n"
     ]
    }
   ],
   "source": [
    "x = (15, 20, \"merhaba\")\n",
    "y = x * 3\n",
    "print(y)"
   ]
  },
  {
   "cell_type": "markdown",
   "id": "77b325ae-cc6d-42c5-bad8-919ae3007ca7",
   "metadata": {},
   "source": [
    "#\n",
    " / DEMETLERDE DAHİLİ FONKSİYONLAR  #/\n",
    "\"\"\"\r\n",
    "Python'daki demetler (tuple) değiştirilemez bir veri tipidir. Bu nedenle, demetler üzerindeki işlemler genellikle bir \r\n",
    "demeti sıralamak, dilimlemek, elemanlarına erişmek veya demetin uzunluğunu almak gibi işlemleri içerir. Demetlerde \r\n",
    "kullanılan bazı dahili fonksiyonlar şunla# rdır: #\r\n",
    "\r\n",
    "len()\r\n",
    "len() fonksiyonu, bir demetin uzunluğunu (kaç eleman içerdiğini) verir. Örneğin:\r\n",
    "\r\n",
    "my_tuple = (1, 2, 3, 4, 5)\r\n",
    "print(len(my_tuple)) # 5\r\n",
    "\r\n",
    "Yukarıdaki örnekte, len() fonksiyonu my_tuple demetinin uzunluğunu (5 e# leman)  #verir.\r\n",
    "\r\n",
    "index()\r\n",
    "index() fonksiyonu, belirli bir elemanın bir demette kaçıncı indekste bulunduğunu \n",
    "\n",
    "demet = (1, 2, 3, 4, 5)\r\n",
    "printdemete.index(3)) # 2\n",
    "Yukarıdaki örnekte, index() fonksiyonu my_tuple demetindeki 3 sayısının indeksini (2) döndürür.\r\n",
    "# count() #\r\n",
    "count() fonksiyonu, belirli bir elemanın bir demette kaç kez bulunduğunu sayar. Örneğin:\r\n",
    "\r\n",
    "my_tuple = (1, 2, 3, 3, 4, 5, 3)\r\n",
    "print(my_tuple.count(3)) # 3\r\n",
    "\r\n",
    "Yukarıdaki örnekte, count() fonksiyonu my_tuple demetindeki 3 sayısının kaç kez geçtiğini sayar ve sonucu (3) döndü# rür.\r\n",
    "\r\n",
    " #sorted()\r\n",
    "sorted() fonksiyonu, bir demeti sıralar ve sıralanmış bir liste döndürür. Örneğin:\r\n",
    "\r\n",
    "my_tuple = (5, 2, 8, 1, 3)\r\n",
    "print(sorted(my_tuple)) # [1, 2, 3, 5, 8]\r\n",
    "\r\n",
    "Yukarıdaki örnekte, sorted() fonksiyonu my_tuple demetini sıralar ve sıralanmış bir lis# te döndürür.\r\n",
    " # \r\n",
    "max() ve min()\r\n",
    "max() fonksiyonu, bir demetin en büyük elemanını döndürürken, min() fonksiyonu en küçük elemanı döndürür. Örneğin:\r\n",
    "\r\n",
    "my_tuple = (5, 2, 8, 1, 3)\r\n",
    "print(max(my_tuple)) # 8\r\n",
    "print(min(my_tuple)) # 1\r\n",
    "\r\n",
    "Yukarıdaki örnekte, max() fonksiyonu my_tuple demetinin en büyük elemanı olan 8 sayısını döndürürken, min() fonksiyonu \r\n",
    "en küçük eleman olan 1 sayısını döndürür.\r\n",
    "\n",
    "\r\n",
    "döndürür. Örneğin:"
   ]
  },
  {
   "cell_type": "code",
   "execution_count": 4,
   "id": "14bed08f-4081-45ed-9f04-ef4fb3ad7f6b",
   "metadata": {},
   "outputs": [
    {
     "name": "stdout",
     "output_type": "stream",
     "text": [
      "6\n",
      "5\n",
      "1\n"
     ]
    }
   ],
   "source": [
    "demet = (\"sarı\", \"mavi\", \"yeşil\", 1, \"iki\", 3.0)\n",
    "print(len(demet))\n",
    "print(demet.index(3.0))\n",
    "print(demet.index(\"mavi\"))\n"
   ]
  },
  {
   "cell_type": "code",
   "execution_count": 6,
   "id": "428fb549-0b78-46e8-a3b1-dd353e4aa398",
   "metadata": {},
   "outputs": [
    {
     "name": "stdout",
     "output_type": "stream",
     "text": [
      "3\n",
      "2\n"
     ]
    }
   ],
   "source": [
    "numbers = (1,2,4,1,6,5,1,3,2,4,6,)\n",
    "print(numbers.count(1))\n",
    "print(numbers.count(6))"
   ]
  },
  {
   "cell_type": "code",
   "execution_count": 9,
   "id": "fed0429d-12cd-43bb-abdd-a0b3558aa180",
   "metadata": {},
   "outputs": [
    {
     "name": "stdout",
     "output_type": "stream",
     "text": [
      "[1, 2, 3, 5, 8]\n",
      "8\n",
      "1\n"
     ]
    }
   ],
   "source": [
    "sayilar = (5, 2, 8, 1, 3)\n",
    "print(sorted(sayilar))\n",
    "print(max(sayilar))\n",
    "print(min(sayilar))"
   ]
  },
  {
   "cell_type": "markdown",
   "id": "1674d07e-4c8d-47d7-bee7-1cc625996201",
   "metadata": {},
   "source": [
    "# DEMETLERDE ÜYELİK OPERATÖRLERİ #\n",
    "\n",
    "Demetler üzerinde, belirli bir elemanın demette olup \n",
    "olmadığını kontrol etmek için üyelik operatörleri kullanılabilir.\n",
    "\n",
    "# in operatörü #\n",
    "in operatörü, bir elemanın bir demette olup olmadığını kontrol eder ve sonuç olarak True veya False döndürür. Örneğin:\n",
    "\n",
    "my_tuple = (1, 2, 3, 4, 5)\r\n",
    "print(3 in my_tuple) # True\r\n",
    "print(6 in my_tuple) # Fal\n",
    "\n",
    "# not in operatörü #\r\n",
    "not in operatörü, bir elemanın bir demette olmadığını kontrol eder ve sonuç olarak True veya False döndürür. Örneğin:\r\n",
    "\r\n",
    "my_tuple = (1, 2, 3, 4, 5)\r\n",
    "print(3 not in my_tuple) # False\r\n",
    "print(6 not in my_tuple) # Truese\r\n"
   ]
  },
  {
   "cell_type": "code",
   "execution_count": 10,
   "id": "31346903-4e4a-48f1-8ec3-c7ea2382aef2",
   "metadata": {},
   "outputs": [
    {
     "name": "stdout",
     "output_type": "stream",
     "text": [
      "True\n",
      "False\n"
     ]
    }
   ],
   "source": [
    "sayi = 40\n",
    "sayilar = (10, 20, 30, 40, 50)\n",
    "print(sayi in sayilar)\n",
    "print(sayi not in sayilar)"
   ]
  },
  {
   "cell_type": "code",
   "execution_count": null,
   "id": "dcc91962-9f07-41fb-bc1f-c59dc2f37ff0",
   "metadata": {},
   "outputs": [],
   "source": []
  }
 ],
 "metadata": {
  "kernelspec": {
   "display_name": "Python 3 (ipykernel)",
   "language": "python",
   "name": "python3"
  },
  "language_info": {
   "codemirror_mode": {
    "name": "ipython",
    "version": 3
   },
   "file_extension": ".py",
   "mimetype": "text/x-python",
   "name": "python",
   "nbconvert_exporter": "python",
   "pygments_lexer": "ipython3",
   "version": "3.11.2"
  }
 },
 "nbformat": 4,
 "nbformat_minor": 5
}

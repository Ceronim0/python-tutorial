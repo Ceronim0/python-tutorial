{
 "cells": [
  {
   "cell_type": "markdown",
   "id": "8bf42e70-dcde-4404-9d45-f4950417c8b5",
   "metadata": {},
   "source": [
    "Liste Tanımı:\r\n",
    "Python'da liste, kare parantez [ ] içinde virgülle ayrılmış elemanların bir araya getirilmesiyle oluşturulan bir veri yapısıdır.\n",
    " Örneğin:"
   ]
  },
  {
   "cell_type": "code",
   "execution_count": null,
   "id": "4579fa09-f927-4b47-8616-07b85556b145",
   "metadata": {},
   "outputs": [],
   "source": [
    "liste = [1, 2, 3, 4, 5]"
   ]
  },
  {
   "cell_type": "markdown",
   "id": "eacee879-e8cb-4f31-b254-81d066cc8685",
   "metadata": {},
   "source": [
    "Liste Elemanları:\r\n",
    "Bir listede farklı veri türlerine ait elemanlar bulunabilir. Örneğin, sayılar, metinler, diğer listeler veya farklı veri tiplerine ait objeler liste içinde yer alabilir.\r\n",
    "\r\n",
    "Liste İndexleri:\r\n",
    "Liste elemanları sıfırdan başlayarak indekslenir. İlk elemanın indeksi 0'dır, ikinci elemanın indeksi 1, üçüncü elemanın indeksi 2 ve böyle devam eder. Negatif indeksler sondan başlar, yani -1 son elemanı temsil eder, -2 sondan bir önceki elemanı temsil eder ve benzer şekilde devam eder.\r\n",
    "\r\n",
    "Liste Elemanlarına Erişim:\r\n",
    "Liste elemanlarına indekslerini kullanarak erişebilirsiniz. Örneğin:"
   ]
  },
  {
   "cell_type": "code",
   "execution_count": 48,
   "id": "af22585f-cec4-4533-af3c-10ccdcf4cafd",
   "metadata": {},
   "outputs": [
    {
     "name": "stdout",
     "output_type": "stream",
     "text": [
      "mavi\n",
      "sarı\n",
      "siyah\n"
     ]
    }
   ],
   "source": [
    "renkler = [\"mavi\" , \"sarı\", \"beyaz\" , \"siyah\"]\n",
    "print(renkler[0])\n",
    "print(renkler[1])\n",
    "print(renkler[-1])"
   ]
  },
  {
   "cell_type": "markdown",
   "id": "34fa9415-d17e-4dcb-a3ec-1bf9b48ada91",
   "metadata": {},
   "source": [
    "Liste Dilimleme (Slicing):\r\n",
    "Python'da dilimleme yöntemiyle bir listenin bir bölümünü seçebilirsiniz. Dilimleme işlemi, başlangıç indeksi ve bitiş indeksi ile yapılır (bitiş indeksi dahil değildir).\n",
    " Örneğin:"
   ]
  },
  {
   "cell_type": "code",
   "execution_count": 49,
   "id": "3b7f29f3-9b14-47fa-b5e9-4154601999f9",
   "metadata": {},
   "outputs": [
    {
     "name": "stdout",
     "output_type": "stream",
     "text": [
      "[2, 3]\n",
      "[1, 2, 3, 4, 5]\n",
      "[1, 3, 5]\n",
      "[5, 4, 3, 2, 1]\n"
     ]
    }
   ],
   "source": [
    "liste = [1, 2, 3, 4, 5]\n",
    "print(liste[1:3])  # [2, 3]\n",
    "print(liste[:])\n",
    "print(liste[0::2])\n",
    "print(liste[::-1])"
   ]
  },
  {
   "cell_type": "markdown",
   "id": "7ee8a43d-e723-419f-8f0f-887743fed0f1",
   "metadata": {},
   "source": [
    "Liste Metodları:\r\n",
    "Python'da listelerle birlikte kullanabileceğiniz birçok yöntem (metod) bulunur. Bunlar arasında eleman ekleme, eleman çıkarma, sıralama, ters çevirme gibi işlemleri gerçekleştiren metodlar yer alır. Örneğin\n",
    "\r\n",
    "insert() metodu, belirli bir indekse yeni bir eleman eklemek için kullanılır. İnsert metodu, iki argüman alır: ilk argüman, eklemek istediğiniz elemanın ekleneceği indeksi belirtir ve ikinci argüman ise eklemek istediğiniz elemandır. Diğer elemanlar sağa kayar ve yeni eleman belirtilen indekste yer alır\n",
    "liste.insert(0,\"kırmızı\")  # 0. indekse kırmızı elemanını ekler      \n",
    "\n",
    "pop() Metodu:\r\n",
    "pop() metodu, listeden bir elemanı çıkarmak ve çıkardığı elemanı döndürmek için kullanılır. Bu metod, iki farklı şekilde kullanılabilir:\r\n",
    "\r\n",
    "a. İndeksleme ile kullanım:\r\n",
    "Eğer pop() metodu herhangi bir argüman almadan çağrılırsa, listenin sonundaki elemanı çıkarır ve bu elemanı döndür\n",
    "Eğer pop() metodu bir indeks argümanı alırsa, belirtilen indeksteki elemanı çıkarır\n",
    "\n",
    "sorted() Fonksiyonu:\r\n",
    "sorted() fonksiyonu, bir listenin elemanlarını sıralar ancak orijinal listeyi değiştirmez. Bu fonksiyon, sıralanmış yeni bir liste döndürür. Yani, sorted() fonksiyonunun geriye dönüş değeri, sıralanmış bir liste olacaktır:ğin:\n",
    "\n",
    "liste = [1, 2, 3, 4, 5]\n",
    "liste2= [6, 7]\r\n",
    "liste.appe         nd(6)  # Listenin sonuna eleman ekler\r\n",
    "liste.remo         ve(3)  # Belirtilen elemanı listeden çıkarır\r\n",
    "liste.so         rt   ()  # Listeyi küçükten büyüğe\n",
    "liste2 = sorted(liste)    # Listeyi tersine çevirip yeni bir değişkene atar sıralar\r\n",
    "liste.re         verse()  # Listeyi tersine çeviliste.insert(0:\"turuncu\") # 0. indekse turuncu elemanını ekler\n",
    "liste.extend(li    ste2)  # liste2 nin elemanlarını listeye eklerrir\r\n",
    "  "
   ]
  },
  {
   "cell_type": "code",
   "execution_count": 50,
   "id": "4f16e8ea-a404-4fea-90c1-f6e0c51b780e",
   "metadata": {},
   "outputs": [
    {
     "name": "stdout",
     "output_type": "stream",
     "text": [
      "['siyah', 'beyaz', 'sarı', 'mavi', 'yeşil']\n",
      "['siyah', 'beyaz', 'sarı', 'mavi', 'yeşil', 'gri']\n",
      "['siyah', 'beyaz', 'sarı', 'mavi', 'yeşil', 'gri', ['turuncu', 'mor']]\n"
     ]
    }
   ],
   "source": [
    "# APPEND METODU\n",
    "renkler = [\"siyah\", \"beyaz\", \"sarı\", \"mavi\", \"yeşil\"]\n",
    "print(renkler)\n",
    "renkler.append(\"gri\")\n",
    "print(renkler)\n",
    "\n",
    "renkler2=[\"turuncu\", \"mor\"]\n",
    "renkler.append(renkler2)\n",
    "print(renkler)"
   ]
  },
  {
   "cell_type": "code",
   "execution_count": 51,
   "id": "cb370146-0a7d-4e9d-b1ba-b611570c76ad",
   "metadata": {},
   "outputs": [
    {
     "name": "stdout",
     "output_type": "stream",
     "text": [
      "['siyah', 'beyaz', 'sarı', 'mavi', 'yeşil']\n",
      "['kırmızı', 'siyah', 'beyaz', 'sarı', 'mavi', 'yeşil']\n",
      "['kırmızı', 'siyah', 'beyaz', 'sarı', 'mavi', 'turuncu', 'yeşil']\n"
     ]
    }
   ],
   "source": [
    "# İNSERT METODU\n",
    "renkler = [\"siyah\", \"beyaz\", \"sarı\", \"mavi\", \"yeşil\"]\n",
    "print(renkler)\n",
    "renkler.insert(0,\"kırmızı\")\n",
    "print(renkler)\n",
    "renkler.insert(-1,\"turuncu\")\n",
    "print(renkler)"
   ]
  },
  {
   "cell_type": "code",
   "execution_count": 52,
   "id": "6f59d2af-93b8-4f06-a0e5-0768f06cc775",
   "metadata": {},
   "outputs": [
    {
     "name": "stdout",
     "output_type": "stream",
     "text": [
      "['siyah', 'beyaz', 'sarı', 'mavi', 'yeşil']\n",
      "['siyah', 'beyaz', 'mavi', 'yeşil']\n"
     ]
    }
   ],
   "source": [
    "# REMOVE METODU\n",
    "renkler = [\"siyah\", \"beyaz\", \"sarı\", \"mavi\", \"yeşil\"]\n",
    "print(renkler)\n",
    "\n",
    "renkler.remove(\"sarı\")\n",
    "print(renkler)"
   ]
  },
  {
   "cell_type": "code",
   "execution_count": 53,
   "id": "bda26b88-2033-42e9-9687-9903bbec6245",
   "metadata": {},
   "outputs": [
    {
     "name": "stdout",
     "output_type": "stream",
     "text": [
      "[1, 2, 3, 4, 5, 6]\n"
     ]
    }
   ],
   "source": [
    "# EXTEND METODU\n",
    "liste1 = [1, 2, 3]\n",
    "liste2 = [4, 5, 6]\n",
    "liste1.extend(liste2)\n",
    "print(liste1)"
   ]
  },
  {
   "cell_type": "code",
   "execution_count": 54,
   "id": "4645b25f-45d8-4ef6-8a8b-5828ada4ba4f",
   "metadata": {},
   "outputs": [
    {
     "name": "stdout",
     "output_type": "stream",
     "text": [
      "['siyah', 'beyaz', 'sarı', 'mavi']\n",
      "yeşil\n",
      "[1, 2, 4, 5, 6]\n",
      "3\n"
     ]
    }
   ],
   "source": [
    "# POP METODU\n",
    "renkler = [\"siyah\", \"beyaz\", \"sarı\", \"mavi\", \"yeşil\"]\n",
    "silinen = renkler.pop()\n",
    "print(renkler)\n",
    "print(silinen)\n",
    "\n",
    "liste = [1,2,3,4,5,6]\n",
    "eleman = liste.pop(2)\n",
    "print(liste)\n",
    "print(eleman)"
   ]
  },
  {
   "cell_type": "code",
   "execution_count": 55,
   "id": "2dba17c6-8fa8-4e9c-abe6-266552940a80",
   "metadata": {},
   "outputs": [
    {
     "name": "stdout",
     "output_type": "stream",
     "text": [
      "['siyah', 'beyaz', 'sarı', 'mavi', 'yeşil']\n",
      "['yeşil', 'mavi', 'sarı', 'beyaz', 'siyah']\n"
     ]
    }
   ],
   "source": [
    "# REVERSE METODU\n",
    "renkler = [\"siyah\", \"beyaz\", \"sarı\", \"mavi\", \"yeşil\"]\n",
    "print(renkler)\n",
    "renkler.reverse()\n",
    "print(renkler)"
   ]
  },
  {
   "cell_type": "code",
   "execution_count": 56,
   "id": "6c63b748-93a7-4499-8517-6f5ff41d2745",
   "metadata": {},
   "outputs": [
    {
     "name": "stdout",
     "output_type": "stream",
     "text": [
      "['siyah', 'beyaz', 'sarı', 'mavi', 'yeşil']\n",
      "['beyaz', 'mavi', 'sarı', 'siyah', 'yeşil']\n",
      "[4, 7, 5, 2, 3, 1, 6]\n",
      "[7, 6, 5, 4, 3, 2, 1]\n"
     ]
    }
   ],
   "source": [
    "# SORT METODU\n",
    "\n",
    "renkler = [\"siyah\", \"beyaz\", \"sarı\", \"mavi\", \"yeşil\"]\n",
    "print(renkler)\n",
    "\n",
    "renkler.sort() # alfabetik olarak sıralar.\n",
    "print(renkler)\n",
    "\n",
    "liste = [4,7,5,2,3,1,6]\n",
    "print(liste)\n",
    "liste.sort(reverse = True ) # tersten sıralamak istediğimizde parantez içine reverse = True parametresi ekleriz.\n",
    "print(liste)\n"
   ]
  },
  {
   "cell_type": "code",
   "execution_count": 57,
   "id": "0fefbe8e-585f-44a5-9d7d-0e1625c5b1fd",
   "metadata": {},
   "outputs": [
    {
     "name": "stdout",
     "output_type": "stream",
     "text": [
      "[1, 2, 3, 4, 5, 6, 7]\n",
      "[7, 6, 5, 4, 3, 2, 1]\n"
     ]
    }
   ],
   "source": [
    "# SORTED METODU\n",
    "\n",
    "liste = [4,7,5,2,3,1,6]\n",
    "liste2 = sorted(liste)\n",
    "liste3 = sorted(liste, reverse = True)\n",
    "print(liste2)\n",
    "print(liste3)"
   ]
  },
  {
   "cell_type": "markdown",
   "id": "dbbfb5fd-eea3-4da7-8d63-5cc085df2c5c",
   "metadata": {},
   "source": [
    "Liste Fonksiyonları:\r\n",
    "Python'da listenin üzerinde kullanabileceğiniz birçok fonksiyon bulunur. Bunlar arasında listenin uzunluğunu bulma, elemanların toplamını bulma, en büyük veya en küçük elemanı bulma gibi işlemleri gerçekleştiren fonksiyonlar yer alır. Örneğin\n",
    "\n",
    "liste = [1, 2, 3, 4, 5]\r\n",
    "uzunluk = len(liste)  # Listenin uzunluğunu döndürür\r\n",
    "toplam = sum(liste)  # Elemanların toplamını döndürür\r\n",
    "maksimum = max(liste)  # En büyük elemanı döndürür\r\n",
    "minimum = min(liste)  # En küçük elemanı döndürür\r\n",
    ":"
   ]
  },
  {
   "cell_type": "code",
   "execution_count": 58,
   "id": "2b6759c6-86d5-4b3a-922a-1fa5fcd9ac6e",
   "metadata": {},
   "outputs": [
    {
     "name": "stdout",
     "output_type": "stream",
     "text": [
      "1\n",
      "9\n",
      "45\n"
     ]
    }
   ],
   "source": [
    "# MİN MAX KULLANIMI\n",
    "\n",
    "liste=[1,2,3,4,9,5,8,6,7]\n",
    "\n",
    "print(min(liste))\n",
    "print(max(liste))\n",
    "print(sum(liste))"
   ]
  },
  {
   "cell_type": "markdown",
   "id": "ad9bc4d7-8e01-4414-9f51-58ce3ef39587",
   "metadata": {},
   "source": [
    "# ENUMERATE FONKSİYONU #\n",
    "Enumerate fonksiyonu bir listeyi numaralandırmaya yarar. enumerate() fonksiyonu, her bir öğe için bir indeks ve değer çifti döndürür.\n",
    "enumerate() fonksiyonu aynı zamanda başlangıç indeksi belirlemek için bir ikinci parametre alabilir. Varsayılan olarak, başlangıç indeksi 0'dır. Ancak başlangıç indeksini istediğiniz bir değerle belirtebilirsiniz."
   ]
  },
  {
   "cell_type": "code",
   "execution_count": 59,
   "id": "726b6be9-1b6d-4989-9aa9-7fd2b6b530fb",
   "metadata": {},
   "outputs": [
    {
     "name": "stdout",
     "output_type": "stream",
     "text": [
      "[(0, 'siyah'), (1, 'beyaz'), (2, 'sarı'), (3, 'mavi'), (4, 'yeşil')]\n",
      "[(3, 'siyah'), (4, 'beyaz'), (5, 'sarı'), (6, 'mavi'), (7, 'yeşil')]\n"
     ]
    }
   ],
   "source": [
    "renkler = [\"siyah\", \"beyaz\", \"sarı\", \"mavi\", \"yeşil\"]\n",
    "print(list(enumerate(renkler)))\n",
    "print(list(enumerate(renkler, start=3))) # numaralandırmaya 3 ten başlar"
   ]
  },
  {
   "cell_type": "code",
   "execution_count": 46,
   "id": "5ae71886-1aee-4a2e-9792-6dc447884f8a",
   "metadata": {},
   "outputs": [
    {
     "name": "stdout",
     "output_type": "stream",
     "text": [
      "True\n",
      "False\n"
     ]
    }
   ],
   "source": [
    "# İN KULLANIMI #\n",
    "renkler = [\"siyah\", \"beyaz\", \"sarı\", \"mavi\", \"yeşil\"]\n",
    "print(\"beyaz\" in renkler)\n",
    "print(\"gri\" in renkler)"
   ]
  },
  {
   "cell_type": "markdown",
   "id": "b7d353ed-7792-41da-bec3-3a3affac73a4",
   "metadata": {},
   "source": [
    "# LİSTEYİ STRİNGE ÇEVİRMEK VE JOİN METODU #\n",
    "Python'da listeleri bir stringe dönüştürmek için join() metodu kullanılır. join() metodu, bir dizeyi birleştirmek için kullanılır ve listenin elemanlarını belirtilen ayırıcıyla birleştirerek tek bir string oluşturur. İşte join() metodunun kullanımı ve örnekleri:\n",
    "\n",
    "liste = ['Merhaba', 'Dünya', 'Nasılsınız?']\r\n",
    "ayirici = ' '\r\n",
    "\r\n",
    "string = ayirici.join(liste)\r\n",
    "print(string)  # Merhaba Dünya Nasılsın\n",
    "Yukarıdaki örnekte, join() metodu kullanılarak liste'deki elemanlar, ayirici olarak belirtilen boşluk karakteri ile birleştirilerek string adlı bir string oluşturulur. Sonuç olarak, ekrana \"Merhaba Dünya Nasılsınız?\" yazdırılır.\r\n",
    "\r\n",
    "join() metodu, listenin elemanlarının dize olması gerektiğini unutmayın. Eğer listenizde sayılar gibi dize olmayan veri tipleri varsa, önce bu elemanları dizeye dönüştürmeniz gerekebili\n",
    "\n",
    "liste = ['1', '2', '3', '4', '5']\r\n",
    "\r\n",
    "string = ''.join(liste)\r\n",
    "print(string)  # 12\n",
    "\n",
    "Yukarıdaki örnekte, liste elemanları zaten dize olduğu için dönüştürme işlemi yapmadan join() metodunu kullanabiliriz. Elemanlar arasında boşluk veya herhangi bir ayırıcı kullanmak istemiyorsanız, ayirici olarak boş bir string '' kullanabilirsiniz.\r\n",
    "\r\n",
    "join() metodu, listenin elemanlarını belirli bir ayırıcıyla birleştirerek tek bir string oluşturmak için çok kullanışlıdır. Bu yöntemle listeleri dizeye dönüştürmek ve elemanları birleştirmek oldukça kolaydır.345\r\n",
    "r.ız?\r\n"
   ]
  },
  {
   "cell_type": "code",
   "execution_count": 62,
   "id": "6fb193bd-8ca4-4e99-ad23-c9990cdc4928",
   "metadata": {},
   "outputs": [
    {
     "name": "stdout",
     "output_type": "stream",
     "text": [
      "siyahbeyazsarımaviyeşil\n",
      "siyah beyaz sarı mavi yeşil\n",
      "siyah,beyaz,sarı,mavi,yeşil\n"
     ]
    }
   ],
   "source": [
    "renkler = [\"siyah\", \"beyaz\", \"sarı\", \"mavi\", \"yeşil\"]\n",
    "stringrenkler =\"\".join(renkler)\n",
    "print(stringrenkler)\n",
    "stringrenkler2 = \" \".join(renkler) # elemanların arasına boşluk koyar\n",
    "print(stringrenkler2)\n",
    "stringrenkler3 = \",\".join(renkler) # elemanları virgülle ayırır\n",
    "print(stringrenkler3)"
   ]
  },
  {
   "cell_type": "markdown",
   "id": "789f571f-ffb6-4ab6-8569-c90ce74ddae1",
   "metadata": {},
   "source": [
    "# SPLİT METODU #\n",
    "Python'da, bir stringi belirli bir ayırıcıya göre bölmek için split() metodu kullanılır. Bu metot, bir dizeyi belirtilen ayırıcı karaktere göre parçalara ayırarak bir listeye dönüştürür. İşte split() metodunun kullanımı ve örnekleri:\n",
    "\n",
    "dize = \"Merhaba Dünya Nasılsınız?\"\r\n",
    "liste = dize.split()\r\n",
    "print(liste)  # ['Merhaba', 'Dünya', 'Nasılsınız?'\n",
    "Yukarıdaki örnekte, split() metodu kullanılarak dize değişkeni boşluk karakterine göre bölmektedir. Böylece, dize parçaları bir liste olarak liste adlı değişkene atanır ve ekrana yazdırılır.\r\n",
    "\r\n",
    "split() metodu, ayırıcı karakteri olarak varsayılan olarak boşluk karakterini kullanır. Eğer başka bir ayırıcı karakter kullanmak isterseniz, split() metoduna ayırıcı karakteri olarak bir parametre verebilirsiniz. Örneği\n",
    "\n",
    "dize = \"Kırmızı|Mavi|Yeşil|Sarı\"\r\n",
    "liste = dize.split('|')\r\n",
    "print(liste)  # ['Kırmızı', 'Mavi', 'Yeşil', 'Sarı'\n",
    "Yukarıdaki örnekte, split('|') ifadesi kullanılarak dize değişkeni | karakterine göre bölmektedir. Böylece, dize parçaları liste adlı bir liste olarak oluşturulur ve ekrana yazdırılır.\r\n",
    "\r\n",
    "split() metodu, bir dizeyi ayırarak parçalara bölmek ve bu parçaları bir liste olarak döndürmek için kullanılır. Bu metot, verilen bir ayırıcı karaktere göre bölmek için oldukça kullanışlıdır ve birçok farklı senaryoda kullanılabilir.]\r\n",
    "n:n:]\r\n"
   ]
  },
  {
   "cell_type": "code",
   "execution_count": 65,
   "id": "0533a598-bf1f-4167-979a-3c1c598a9533",
   "metadata": {},
   "outputs": [
    {
     "name": "stdout",
     "output_type": "stream",
     "text": [
      "siyah - beyaz - sarı - mavi - yeşil\n",
      "['siyah', 'beyaz', 'sarı', 'mavi', 'yeşil']\n"
     ]
    }
   ],
   "source": [
    "renkler = [\"siyah\", \"beyaz\", \"sarı\", \"mavi\", \"yeşil\"]\n",
    "stringrenkler = \" - \".join(renkler)\n",
    "print(stringrenkler)\n",
    "\n",
    "renkler2= stringrenkler.split(\" - \")\n",
    "print(renkler2)"
   ]
  },
  {
   "cell_type": "code",
   "execution_count": null,
   "id": "2cee4916-c63a-4a87-b88c-07ea24e4c017",
   "metadata": {},
   "outputs": [],
   "source": []
  }
 ],
 "metadata": {
  "kernelspec": {
   "display_name": "Python 3 (ipykernel)",
   "language": "python",
   "name": "python3"
  },
  "language_info": {
   "codemirror_mode": {
    "name": "ipython",
    "version": 3
   },
   "file_extension": ".py",
   "mimetype": "text/x-python",
   "name": "python",
   "nbconvert_exporter": "python",
   "pygments_lexer": "ipython3",
   "version": "3.11.2"
  }
 },
 "nbformat": 4,
 "nbformat_minor": 5
}

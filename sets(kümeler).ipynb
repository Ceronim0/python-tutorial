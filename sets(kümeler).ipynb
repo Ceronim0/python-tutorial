{
 "cells": [
  {
   "cell_type": "markdown",
   "id": "1eec9ef8-7398-4e39-a09b-1a7546b01b2c",
   "metadata": {},
   "source": [
    "# KÜMELER #\n",
    "\n",
    "Kümeler, bir Python veri türüdür ve benzersiz, sırasız ve değiştirilebilir öğeler içerir. İşte kümelerle ilgili önemli bilgiler ve örnekler:\n",
    "\n",
    "Kümelerin Oluşturulması:\r\n",
    "a. Kümeler süslü parantezler {} veya set() fonksiyonu kullanılarak oluşturulabilir.. Örneği\n",
    "\n",
    "set1 = {1, 2, 3}  # Süslü parantezlerle kümeyi oluşturma\r\n",
    "set2 = set([4, 5, 6])  # set() fonksiyonuyla kümeyi oluşturm\n",
    "\n",
    " ıDiğer Kümelerle İlgili İşlemler:\r\n",
    "a. Kümelerde alt küme kontrolü, üst küme kontrolü, kümelerin eşitlik kontrolü vb. işlemler yapabilirsiniz.. Örneğin:set1 = {1, 2, 3}\r\n",
    "set2 = {1, 2, 3, 4, 5}\r\n",
    "\r\n",
    "is_subset = set1.issubset(set2)  # Alt küme kontrolü\r\n",
    "print(is_subset)  # Çıktı: True\r\n",
    "\r\n",
    "is_superset = set2.issuperset(set1)  # Üst küme kontrolü\r\n",
    "print(is_superset)  # Çıktı: True\r\n",
    "\r\n",
    "is_equal = set1 == set2  # Eşitlik kontrolü\r\n",
    "print(is_equal)  # Çıktalse\r\n",
    "\r\n",
    "\r\n",
    ": {1, 2}\r\n",
    "4, 5}\r\n",
    "ğin:a\r\n",
    "\n",
    "\n",
    "\n",
    "\n",
    "\n",
    "\n",
    "\n",
    "\n",
    "n:"
   ]
  },
  {
   "cell_type": "code",
   "execution_count": 1,
   "id": "7cedfa1d-1de1-447d-91c1-a8d161be7f24",
   "metadata": {},
   "outputs": [
    {
     "name": "stdout",
     "output_type": "stream",
     "text": [
      "5\n"
     ]
    }
   ],
   "source": [
    "kume = {\"sarı\", \"mavi\", \"yeşil\", \"kırmızı\", \"siyah\"}\n",
    "print(len(kume))"
   ]
  },
  {
   "cell_type": "markdown",
   "id": "225b5cac-e244-4146-9b7c-0a4165fb875e",
   "metadata": {},
   "source": [
    "# Kümelerin Özellikleri #\n",
    "a. Kümelerde her öğe yalnızca bir kez bulunabilir. Tekrarlayan öğeler otomatik olarak birleştirilir.\n",
    "b. Kümeler sırasızdır, yani öğelerin sırası önemli değildir.\n",
    "c. Kümeler değiştirilebilir, yani öğeler eklenebilir veya çıkarılabilir.\n",
    "Örneğin:\n",
    "\n",
    "küme = {1, 2, 3, 3, 4}  # Tekrar eden öğeler birleştirilir\n",
    "print(küme)  # Çıktı: {1, 2, 3, 4}\n",
    "\n",
    "küme.add(5)  # Yeni bir öğe ekleme\n",
    "print(küme)  # Çıktı: {1, 2, 3, 4, 5}\n",
    "\n",
    "küme.remove(2)  # Bir öğeyi kümeyi çıkarma\n",
    "print(küme)  # Çıktı: {1, 3, 4, 5}\n"
   ]
  },
  {
   "cell_type": "code",
   "execution_count": 5,
   "id": "3e02d829-137e-4474-8352-eaa711685cab",
   "metadata": {},
   "outputs": [
    {
     "name": "stdout",
     "output_type": "stream",
     "text": [
      "{'yeşil', 'siyah', 'kırmızı', 'sarı', 'mavi'}\n",
      "{'pembe', 'yeşil', 'siyah', 'kırmızı', 'sarı', 'mavi'}\n"
     ]
    }
   ],
   "source": [
    "kume = {\"sarı\", \"mavi\", \"yeşil\", \"kırmızı\", \"siyah\"}\n",
    "print(kume)\n",
    "kume.add(\"pembe\")\n",
    "print(kume)"
   ]
  },
  {
   "cell_type": "code",
   "execution_count": 11,
   "id": "8841d8d9-1c8f-4f54-9cd4-5880844521c8",
   "metadata": {},
   "outputs": [
    {
     "name": "stdout",
     "output_type": "stream",
     "text": [
      "{'yeşil', 'siyah', 'kırmızı', 'sarı', 'mavi'}\n",
      "{'yeşil', 'siyah', 'kırmızı', 'mavi'}\n",
      "{'siyah', 'kırmızı', 'mavi'}\n"
     ]
    }
   ],
   "source": [
    "kume = {\"sarı\", \"mavi\", \"yeşil\", \"kırmızı\", \"siyah\"}\n",
    "print(kume)\n",
    "kume.remove(\"sarı\")\n",
    "print(kume)\n",
    "kume.discard(\"yeşil\")\n",
    "print(kume)\n"
   ]
  },
  {
   "cell_type": "markdown",
   "id": "d2c90947-0693-41bb-8946-a7ebbaeeae72",
   "metadata": {},
   "source": [
    "# Kümelerin Birleşim, Kesişim ve Fark İşlemleri #\n",
    "a. Kümeler arasında birleşim, kesişim ve fark işlemleri yapabilirsiniz.\n",
    "Örneğin:\n",
    "\n",
    "küme1 = {1, 2, 3}\n",
    "küme2 = {3, 4, 5}\n",
    "\n",
    "union_set = küme1.union(küme2)  # Birleşim işlemi\n",
    "print(union_set)  # Çıktı: {1, 2, 3, 4, 5}\n",
    "\n",
    "intersection_set = küme1.intersection(küme2)  # Kesişim işlemi\n",
    "print(intersection_set)  # Çıktı: {3}\n",
    "\n",
    "difference_set = küme1.difference(küme2)  # Fark işlemi\n",
    "print(difference_set)  # Çıktı: {1, 2}\n"
   ]
  },
  {
   "cell_type": "code",
   "execution_count": 12,
   "id": "5d7e88cd-b1b7-40bc-819a-217f286be2f2",
   "metadata": {},
   "outputs": [
    {
     "name": "stdout",
     "output_type": "stream",
     "text": [
      "{'mavi', 'sarı', 'yeşil'}\n",
      "{'mavi', 'sarı', 'yeşil'}\n"
     ]
    }
   ],
   "source": [
    "kume1 = {\"sarı\", \"mavi\", \"yeşil\", \"kırmızı\", \"siyah\"}\n",
    "kume2 = {\"sarı\", \"mavi\", \"yeşil\", \"gri\", \"beyaz\"}\n",
    "\n",
    "print(kume1.intersection(kume2))\n",
    "print(kume2.intersection(kume1))"
   ]
  },
  {
   "cell_type": "code",
   "execution_count": 13,
   "id": "04785c3b-9494-447d-b8a9-32f3d5073fe5",
   "metadata": {},
   "outputs": [
    {
     "name": "stdout",
     "output_type": "stream",
     "text": [
      "{'yeşil', 'kırmızı', 'sarı', 'gri', 'beyaz', 'mavi', 'siyah'}\n",
      "{'yeşil', 'kırmızı', 'sarı', 'gri', 'beyaz', 'siyah', 'mavi'}\n"
     ]
    }
   ],
   "source": [
    "kume1 = {\"sarı\", \"mavi\", \"yeşil\", \"kırmızı\", \"siyah\"}\n",
    "kume2 = {\"sarı\", \"mavi\", \"yeşil\", \"gri\", \"beyaz\"}\n",
    "\n",
    "print(kume1.union(kume2))\n",
    "print(kume2.union(kume1))"
   ]
  },
  {
   "cell_type": "code",
   "execution_count": 17,
   "id": "dfc6a7ff-85d5-4578-88c3-c8064331c2bf",
   "metadata": {},
   "outputs": [
    {
     "name": "stdout",
     "output_type": "stream",
     "text": [
      "{'kırmızı', 'siyah'}\n",
      "{'gri', 'beyaz'}\n"
     ]
    }
   ],
   "source": [
    "kume1 = {\"sarı\", \"mavi\", \"yeşil\", \"kırmızı\", \"siyah\"}\n",
    "kume2 = {\"sarı\", \"mavi\", \"yeşil\", \"gri\", \"beyaz\"}\n",
    "\n",
    "print(kume1.difference(kume2))\n",
    "print(kume2.difference(kume1))"
   ]
  },
  {
   "cell_type": "code",
   "execution_count": 19,
   "id": "39aada1b-d0ad-4447-9486-326d93a12d3b",
   "metadata": {},
   "outputs": [
    {
     "name": "stdout",
     "output_type": "stream",
     "text": [
      "True\n",
      "False\n",
      "True\n",
      "True\n"
     ]
    }
   ],
   "source": [
    "kume1 = {\"sarı\", \"mavi\", \"yeşil\", \"kırmızı\", \"siyah\"}\n",
    "kume2 = {\"sarı\", \"mavi\", \"yeşil\", \"gri\", \"beyaz\"}\n",
    "print(\"mavi\" in kume1)\n",
    "print(\"mor\" in kume2)\n",
    "print(\"beyaz\" in kume.union(kume2))\n",
    "print(\"mavi\" in kume1.intersection(kume2))"
   ]
  }
 ],
 "metadata": {
  "kernelspec": {
   "display_name": "Python 3 (ipykernel)",
   "language": "python",
   "name": "python3"
  },
  "language_info": {
   "codemirror_mode": {
    "name": "ipython",
    "version": 3
   },
   "file_extension": ".py",
   "mimetype": "text/x-python",
   "name": "python",
   "nbconvert_exporter": "python",
   "pygments_lexer": "ipython3",
   "version": "3.11.2"
  }
 },
 "nbformat": 4,
 "nbformat_minor": 5
}

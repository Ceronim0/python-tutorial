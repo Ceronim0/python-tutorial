{
 "cells": [
  {
   "cell_type": "markdown",
   "id": "0635e5d7-9434-4f5a-adf3-3a1295d8cdcc",
   "metadata": {},
   "source": [
    "# SÖZLÜKLER #\n",
    "\n",
    "* Python'da sözlükler, anahtar-değer çiftlerini tutan, değiştirilebilir ve indekslenemeyen veri yapılarıdır. Sözlükler, süslü parantezler {} kullanılarak tanımlanır ve anahtar ve değerler arasında iki nokta ile ayrılır.\r\n",
    "\r\n",
    "İşte Python'da sözlükleri tanımlamanın örnekler\n",
    "\n",
    "*********************************************************************************************************\n",
    "# Boş bir sözlük tanımlama\r\n",
    "empty_dict = {}\r\n",
    "\r\n",
    "# Anahtar-değer çiftleri içeren bir sözlük tanımlama\r\n",
    "person = {\"name\": \"John\", \"age\": 30, \"city\": \"New York\"}\r\n",
    "\r\n",
    "# Birden çok anahtar-değer çiftini ayrı ayrı tanımlama\r\n",
    "person = {}\r\n",
    "person[\"name\"] = \"John\"\r\n",
    "person[\"age\"] = 30\r\n",
    "person[\"city\"] = \"New York\"\r\n",
    "\r\n",
    "# Sözlük içinde farklı veri tipleri kullanma\r\n",
    "my_dict = {\"name\": \"Alice\", \"age\": 25, \"grades\": [90, 85, 95], \"is_student\": True}\r\n",
    "\r\n",
    "# İç içe geçmiş sözlükler tanımlama\r\n",
    "nested_dict = {\"person\": {\"name\": \"Alice\", \"age\": 25}, \"address\": {\"city\": \"New York\",\n",
    "*********************************************************************************************************\n",
    "\n",
    "* Sözlüklerdeki anahtarlar benzersiz olmalıdır, yani aynı anahtara sahip iki öğe olamaz. Değerler ise herhangi bir veri tipi olabilir. Sözlüklerdeki değerlere anahtar üzerinden erişilebilir.\r\n",
    "\r\n",
    "Örneği\n",
    "\n",
    "*****************************************************************\n",
    "person = {\"name\": \"John\", \"age\": 30, \"city\": \"New York\"}\r\n",
    "\r\n",
    "print(person[\"name\"])  # Çıktı: John\r\n",
    "print(person[\"age\"])   # Çıktı: 30\r\n",
    "print(person[\"city\"])  # Çıktı: New \n",
    "Y*****************************************************************\n",
    "ork\r\n",
    "n: \"zip\": 12345}}\r\n",
    "i:"
   ]
  },
  {
   "cell_type": "code",
   "execution_count": 6,
   "id": "aa825624-3983-42f1-bd14-653458e8033d",
   "metadata": {},
   "outputs": [
    {
     "name": "stdout",
     "output_type": "stream",
     "text": [
      "{'isim': 'Yusuf', 'yas': 19, 'cinsiyet': 'm', 'hobiler': ['kitap okumak', 'yüzmek', 'yazılım']}\n",
      "Yusuf\n",
      "m\n"
     ]
    }
   ],
   "source": [
    "kisi = {\"isim\" : \"Yusuf\", \"yas\" : 19, \"cinsiyet\" : \"m\", \"hobiler\" : [\"kitap okumak\", \"yüzmek\", \"yazılım\"]}\n",
    "print(kisi)\n",
    "print(kisi[\"isim\"])\n",
    "print(kisi[\"cinsiyet\"])"
   ]
  },
  {
   "cell_type": "markdown",
   "id": "10eec7e9-3117-40e3-a7fe-5777af842c81",
   "metadata": {},
   "source": [
    "# update() Yöntemi\n",
    "\n",
    "Python'da sözlüklerde update() yöntemi, bir sözlüğü başka bir sözlükle güncellemek veya birden çok anahtar-değer çiftini bir sözlüğe eklemek için kullanılır.\r\n",
    "\r\n",
    "update() yöntemi, başka bir sözlüğü veya anahtar-değer çiftlerini parametre olarak alır ve mevcut sözlüğe bu değerleri ekler veya günceller. Eğer aynı anahtara sahip bir çift zaten mevcut ise, yeni değerle eski değer değiştirilir.\r\n",
    "\r\n",
    "İşte update() yönteminin kullan\n",
    "\n",
    "*************************************************************************************\n",
    "# Sözlük oluşturma\r\n",
    "person = {\"name\": \"John\", \"age\": 30}\r\n",
    "\r\n",
    "# Başka bir sözlükle güncelleme\r\n",
    "person.update({\"age\": 35, \"city\": \"New York\"})\r\n",
    "\r\n",
    "print(person)\r\n",
    "# Çıktı: {'name': 'John', 'age': 35, 'city': 'New \n",
    "*************************************************************************************\n",
    "\n",
    "Aynı şekilde, update() yöntemi kullanılarak birden çok anahtar-değer çiftini de bir sözlüğe ekleyebilirsiniz:\n",
    "\n",
    "*************************************************************************************\n",
    "# Sözlük oluşturma\r\n",
    "person = {\"name\": \"John\", \"age\": 30}\r\n",
    "\r\n",
    "# Birden çok anahtar-değer çiftini eklemek\r\n",
    "person.update({\"city\": \"New York\", \"occupation\": \"Engineer\"})\r\n",
    "\r\n",
    "print(person)\r\n",
    "# Çıktı: {'name': 'John', 'age': 30, 'city': 'New York', 'occupation': 'Engi\n",
    "*************************************************************************************neer'}\r\n",
    "York'}\r\n",
    "ımı:"
   ]
  },
  {
   "cell_type": "code",
   "execution_count": 12,
   "id": "ba5df7f0-b397-4611-a22f-e06d7ecbf880",
   "metadata": {},
   "outputs": [
    {
     "name": "stdout",
     "output_type": "stream",
     "text": [
      "{'isim': 'Yusuf', 'yas': 19, 'cinsiyet': 'm', 'hobiler': ['kitap okumak', 'yüzmek', 'yazılım']}\n",
      "{'isim': 'Ahmet', 'yas': 19, 'cinsiyet': 'm', 'hobiler': ['kitap okumak', 'yüzmek', 'yazılım']}\n",
      "{'isim': 'Ahmet', 'yas': 20, 'cinsiyet': 'belirtilmemis', 'hobiler': ['kitap okumak', 'yüzmek', 'yazılım']}\n"
     ]
    }
   ],
   "source": [
    "kisi = {\"isim\" : \"Yusuf\", \"yas\" : 19, \"cinsiyet\" : \"m\", \"hobiler\" : [\"kitap okumak\", \"yüzmek\", \"yazılım\"]}\n",
    "print(kisi)\n",
    "\n",
    "kisi[\"isim\"] = \"Ahmet\"\n",
    "print(kisi)\n",
    "\n",
    "# aynı anda birden fazla değeri değiştirmek için \"update\" modülü kullanırız:\n",
    "\n",
    "kisi.update({\"yas\" : 20, \"cinsiyet\" : \"belirtilmemis\"})\n",
    "print(kisi)"
   ]
  },
  {
   "cell_type": "markdown",
   "id": "9b91d844-6c1f-4132-9e82-6078b2bb174e",
   "metadata": {},
   "source": [
    "Sözlükten Değer Silme \n",
    "\n",
    "Bir anahtarın değerini silmek için del anahtar sözcüğünü kullanabilirsiniz.\n",
    "\n",
    "# Sözlük oluşturma\r\n",
    "person = {\"name\": \"John\", \"age\": 30, \"city\": \"New York\"}\r\n",
    "\r\n",
    "# Değer silme\r\n",
    "del person[\"age\"]\r\n",
    "\r\n",
    "print(person)\r\n",
    "# Çıktı: {'name': 'John', 'city': 'New York'}\r\n"
   ]
  },
  {
   "cell_type": "code",
   "execution_count": 14,
   "id": "045c8d2b-ca38-4e58-ad87-1141fbd37acd",
   "metadata": {},
   "outputs": [
    {
     "name": "stdout",
     "output_type": "stream",
     "text": [
      "{'isim': 'Yusuf', 'yas': 19, 'cinsiyet': 'm', 'hobiler': ['kitap okumak', 'yüzmek', 'yazılım']}\n",
      "{'isim': 'Yusuf', 'yas': 19, 'cinsiyet': 'm', 'hobiler': ['kitap okumak', 'yüzmek', 'yazılım'], 'id': 12345}\n",
      "{'isim': 'Yusuf', 'yas': 19, 'cinsiyet': 'm', 'hobiler': ['kitap okumak', 'yüzmek', 'yazılım']}\n"
     ]
    }
   ],
   "source": [
    "# değer silme bu şekilde yapılır\n",
    "\n",
    "kisi = {\"isim\" : \"Yusuf\", \"yas\" : 19, \"cinsiyet\" : \"m\", \"hobiler\" : [\"kitap okumak\", \"yüzmek\", \"yazılım\"]}\n",
    "print(kisi)\n",
    "\n",
    "kisi[\"id\"]= 12345\n",
    "print(kisi)\n",
    "\n",
    "del kisi[\"id\"]\n",
    "print(kisi)"
   ]
  },
  {
   "cell_type": "code",
   "execution_count": 17,
   "id": "b4be88c3-1808-45ef-8ba6-58f76f746606",
   "metadata": {},
   "outputs": [
    {
     "name": "stdout",
     "output_type": "stream",
     "text": [
      "dict_keys(['isim', 'yas', 'cinsiyet', 'hobiler'])\n",
      "dict_values(['Yusuf', 19, 'm', ['kitap okumak', 'yüzmek', 'yazılım']])\n",
      "dict_items([('isim', 'Yusuf'), ('yas', 19), ('cinsiyet', 'm'), ('hobiler', ['kitap okumak', 'yüzmek', 'yazılım'])])\n"
     ]
    }
   ],
   "source": [
    "# sadece anahtarları yazdırmak için bu komut kullanılır\n",
    "\n",
    "kisi = {\"isim\" : \"Yusuf\", \"yas\" : 19, \"cinsiyet\" : \"m\", \"hobiler\" : [\"kitap okumak\", \"yüzmek\", \"yazılım\"]}\n",
    "print(kisi.keys())\n",
    "\n",
    "# sadece değerleri yazdırmak i.in bu komut kullanılır\n",
    "\n",
    "print(kisi.values())\n",
    "\n",
    "# veriyi hem anahtar hem değer olarak çift bir şekilde yazdırmak istersek bu komutu kullanırız\n",
    "\n",
    "print(kisi.items())"
   ]
  },
  {
   "cell_type": "markdown",
   "id": "1be2c26d-c852-45fe-b0de-51eec20e44c1",
   "metadata": {},
   "source": [
    "# get() yöntemi\n",
    "Python'da sözlüklerde get() yöntemi, belirtilen bir anahtarın değerini döndürür. Bu yöntem, bir anahtarın sözlükte olup olmadığını kontrol etmek için kullanılır ve eğer anahtar sözlükte yoksa varsayılan bir değer döndürme imkanı sağlar.\r\n",
    "\r\n",
    "get() yöntemi, anahtarı parametre olarak alır ve bu anahtarın karşılık gelen değeri döndürür. Eğer anahtar sözlükte yoksa, varsayılan olarak None değeri döndürülür. Ancak, get() yöntemi ikinci bir parametre olarak varsayılan bir değer alabilir ve bu değer, anahtar sözlükte bulunmadığında döndürülür.\r\n",
    "\r\n",
    "İşte get() yönteminin kullan\n",
    "\n",
    "*******************************************************************\n",
    "\n",
    "# Sözlük oluşturma\r\n",
    "person = {\"name\": \"John\", \"age\": 30}\r\n",
    "\r\n",
    "# Anahtarın değerini alma\r\n",
    "name = person.get(\"name\")\r\n",
    "age = person.get(\"age\")\r\n",
    "city = person.get(\"city\")\r\n",
    "\r\n",
    "print(name)\r\n",
    "# Çıktı: John\r\n",
    "\r\n",
    "print(age)\r\n",
    "# Çıktı: 30\r\n",
    "\r\n",
    "print(city)\n",
    "\n",
    "*******************************************************************\n",
    "\n",
    "İkinci bir parametre olarak varsayılan bir değer belirtmek isterseniz, get() yöntemini aşağıdaki gibi kullanabilirsiniz:\r\n",
    "*******************************************************************\n",
    "# Sözlük oluşturma\r\n",
    "person = {\"name\": \"John\", \"age\": 30}\r\n",
    "\r\n",
    "# Anahtarın değerini alma ve varsayılan değeri belirleme\r\n",
    "city = person.get(\"city\", \"Unknown\")\r\n",
    "\r\n",
    "print(city)\r\n",
    "# Çıktı: U\n",
    "*******************************************************************nknown\r\n",
    "\n",
    "# Çıktı: None\r\n",
    "ımı:"
   ]
  },
  {
   "cell_type": "code",
   "execution_count": 20,
   "id": "3ae163a1-92a1-4626-b769-eacb9c0c9138",
   "metadata": {},
   "outputs": [
    {
     "name": "stdout",
     "output_type": "stream",
     "text": [
      "Yusuf\n",
      "None\n",
      "Bulunamadı\n"
     ]
    }
   ],
   "source": [
    "# get() modülü bir değerin sözlükte olup olmadığını kontrol eder.Varsa değeri, yoksa none değerini döndürür \n",
    "\n",
    "kisi = {\"isim\" : \"Yusuf\", \"yas\" : 19, \"cinsiyet\" : \"m\", \"hobiler\" : [\"kitap okumak\", \"yüzmek\", \"yazılım\"]}\n",
    "print(kisi.get(\"isim\"))\n",
    "print(kisi.get(\"id\"))\n",
    "\n",
    "# get modülünde virgülden sonra girdiğim parametre veri bulunamazsa bana döndüreceği değeri gösterir\n",
    "\n",
    "print(kisi.get(\"id\", \"Bulunamadı\"))"
   ]
  }
 ],
 "metadata": {
  "kernelspec": {
   "display_name": "Python 3 (ipykernel)",
   "language": "python",
   "name": "python3"
  },
  "language_info": {
   "codemirror_mode": {
    "name": "ipython",
    "version": 3
   },
   "file_extension": ".py",
   "mimetype": "text/x-python",
   "name": "python",
   "nbconvert_exporter": "python",
   "pygments_lexer": "ipython3",
   "version": "3.11.2"
  }
 },
 "nbformat": 4,
 "nbformat_minor": 5
}

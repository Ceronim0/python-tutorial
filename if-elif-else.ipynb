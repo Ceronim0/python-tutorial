{
 "cells": [
  {
   "cell_type": "markdown",
   "id": "3d173c4f-7aa2-4da8-8ac4-6ccf3486328c",
   "metadata": {},
   "source": [
    "# if-elif-else Yapısı\n",
    "Python'da \"if\" ifadesi, bir koşulu değerlendirerek belirli bir kod bloğunu çalıştırmayı veya atlamayı sağlar. İşte Python'da \"if\" ifadesini nasıl kullanabileceğinizi anlatan bir örnek:\n",
    "\n",
    "x = 5\r\n",
    "\r\n",
    "if x > 0:\r\n",
    "    print(\"x pozitif bir sayıdır.\")\r\n",
    "\r\n",
    "print(\"If ifadesinin dışındayı\n",
    "Ayrıca \"if\" ifadesine \"else\" ve \"elif\" ifadeleri de ekleyebilirsiniz. \"else\" ifadesi, bir \"if\" ifadesinden sonra kullanılabilir ve koşulun yanlış olduğu durumda çalışacak kodu belirtir. \"elif\" ifadesi ise \"else\" ifadesinden önce kullanılabilir ve başka bir koşulu değerlendirir. İşte bir örnek:\n",
    "\n",
    "x = 10\r\n",
    "\r\n",
    "if x > 0:\r\n",
    "    print(\"x pozitif bir sayıdır.\")\r\n",
    "elif x == 0:\r\n",
    "    print(\"x sıfırdır.\")\r\n",
    "else:\r\n",
    "    print(\"x negatif bir sayıdır.\")\r\n",
    "m.\")\r\n"
   ]
  },
  {
   "cell_type": "code",
   "execution_count": 1,
   "id": "fbdaa839-b3a9-4dd0-a568-b08929865fab",
   "metadata": {},
   "outputs": [
    {
     "name": "stdout",
     "output_type": "stream",
     "text": [
      "a pozitif bir sayıdır\n"
     ]
    }
   ],
   "source": [
    "a = 5\n",
    "\n",
    "if a > 0:\n",
    "    print(\"a pozitif bir sayıdır\")\n",
    "    "
   ]
  },
  {
   "cell_type": "code",
   "execution_count": 5,
   "id": "ef366d5d-2838-4c32-9b7a-e8820f4d7a1a",
   "metadata": {},
   "outputs": [
    {
     "name": "stdout",
     "output_type": "stream",
     "text": [
      "b c ye eşit değildir\n"
     ]
    }
   ],
   "source": [
    "b = 5\n",
    "c = 10\n",
    "if b!= c:\n",
    "    print(\"b c ye eşit değildir\")\n"
   ]
  },
  {
   "cell_type": "code",
   "execution_count": 6,
   "id": "57c19b59-ec94-40d7-bf1d-e39cb02f36fa",
   "metadata": {},
   "outputs": [
    {
     "name": "stdout",
     "output_type": "stream",
     "text": [
      "x ve y eşit değildir\n"
     ]
    }
   ],
   "source": [
    "x = 6\n",
    "y = 8\n",
    "if x==y:\n",
    "    print(\"x y ye eşittir\")\n",
    "else:\n",
    "    print(\"x ve y eşit değildir\")"
   ]
  },
  {
   "cell_type": "code",
   "execution_count": 8,
   "id": "e65a2ebe-263f-4cec-a776-229853cbddc0",
   "metadata": {},
   "outputs": [
    {
     "name": "stdout",
     "output_type": "stream",
     "text": [
      "hiçbiri\n"
     ]
    }
   ],
   "source": [
    "renk = \"siyah\"\n",
    "if renk == \"beyaz\":\n",
    "    print(\"beyaz\")\n",
    "elif renk == \"sarı\":\n",
    "    print(\"sarı\")\n",
    "else:\n",
    "    print(\"hiçbiri\")"
   ]
  },
  {
   "cell_type": "code",
   "execution_count": 9,
   "id": "aa8ebee7-0f1c-40b8-97bd-767180ec06c9",
   "metadata": {},
   "outputs": [
    {
     "name": "stdout",
     "output_type": "stream",
     "text": [
      "koşul doğru\n"
     ]
    }
   ],
   "source": [
    "k = 5\n",
    "l = 8\n",
    "m = 10\n",
    "\n",
    "if k < l or m > k:\n",
    "    print(\"koşul doğru\")\n",
    "else:\n",
    "    print(\"koşul yanlış\")"
   ]
  },
  {
   "cell_type": "code",
   "execution_count": 10,
   "id": "c12756c5-a024-470e-9d7a-82a1e8a117c6",
   "metadata": {},
   "outputs": [
    {
     "name": "stdout",
     "output_type": "stream",
     "text": [
      "listede var\n"
     ]
    }
   ],
   "source": [
    "liste = [0,1,2,3,4,5,6,7,8,9]\n",
    "i = 6\n",
    "if i in liste:\n",
    "    print(\"listede var\")\n",
    "else:\n",
    "    print(\"listede yok\")"
   ]
  },
  {
   "cell_type": "code",
   "execution_count": 11,
   "id": "2a6bf8f2-a62f-4425-8d3d-96a32f95b602",
   "metadata": {},
   "outputs": [
    {
     "name": "stdout",
     "output_type": "stream",
     "text": [
      "harf isimde mevcut\n",
      "harf isimde mevcut değil\n"
     ]
    }
   ],
   "source": [
    "isim = \"Yusuf\"\n",
    "harf = \"Y\"\n",
    "if harf in isim:\n",
    "    print(\"harf isimde mevcut\")\n",
    "\n",
    "harf2 = \"a\"\n",
    "if not harf2 in isim:\n",
    "    print(\"harf isimde mevcut değil\")"
   ]
  },
  {
   "cell_type": "code",
   "execution_count": 15,
   "id": "e1ee2cf5-054e-4b50-b301-df7e02969ef8",
   "metadata": {},
   "outputs": [
    {
     "name": "stdin",
     "output_type": "stream",
     "text": [
      "Bir sayı giriniz: 5\n"
     ]
    },
    {
     "name": "stdout",
     "output_type": "stream",
     "text": [
      "5 sayısı tek sayıdır\n"
     ]
    }
   ],
   "source": [
    "sayi1 = int(input(\"Bir sayı giriniz:\"))\n",
    "if sayi1 % 2 == 0:\n",
    "            print(\"{} sayisi çift sayidir\".format(sayi1))\n",
    "else:\n",
    "    print(f\"{sayi1} sayısı tek sayıdır\")"
   ]
  },
  {
   "cell_type": "code",
   "execution_count": null,
   "id": "e585763a-524d-4821-ad49-213719de47f4",
   "metadata": {},
   "outputs": [],
   "source": []
  }
 ],
 "metadata": {
  "kernelspec": {
   "display_name": "Python 3 (ipykernel)",
   "language": "python",
   "name": "python3"
  },
  "language_info": {
   "codemirror_mode": {
    "name": "ipython",
    "version": 3
   },
   "file_extension": ".py",
   "mimetype": "text/x-python",
   "name": "python",
   "nbconvert_exporter": "python",
   "pygments_lexer": "ipython3",
   "version": "3.11.2"
  }
 },
 "nbformat": 4,
 "nbformat_minor": 5
}

{
 "cells": [
  {
   "cell_type": "markdown",
   "id": "7233eb60-7134-4eec-b80b-7722075c37b4",
   "metadata": {},
   "source": [
    "# STRİNGLER\n",
    "\n",
    "1. upper() fonksiyonu\n",
    "   \"upper()\" fonksiyonu, bir stringin tüm karakterlerini büyük harfe dönüştürmek için kullanılır. İşlev, orijinal stringi değiştirmeden büyük harfli      bir kopya döndürür. İşlevin kullanımı şu şekildedir::"
   ]
  },
  {
   "cell_type": "code",
   "execution_count": 1,
   "id": "4128425e-3290-4122-8a59-58d5be5faad7",
   "metadata": {},
   "outputs": [
    {
     "name": "stdout",
     "output_type": "stream",
     "text": [
      "MERHABA DÜNYA\n"
     ]
    }
   ],
   "source": [
    "mesaj = \"merhaba dünya\"\n",
    "büyük = mesaj.upper()\n",
    "print(büyük)"
   ]
  },
  {
   "cell_type": "markdown",
   "id": "7f469e25-ead4-4b2a-9b15-8d260b8eaba1",
   "metadata": {},
   "source": [
    "2. lower():\r\n",
    "\"lower()\" fonksiyonu, bir stringin tüm karakterlerini küçük harfe dönüştürmek için kullanılır. Bu işlev de orijinal stringi değiştirmeden küçük harfli bir kopya döndürür. İşlevin kullanımı şu şekildedir:"
   ]
  },
  {
   "cell_type": "code",
   "execution_count": 2,
   "id": "325518d6-bb5c-47e7-8cc8-819270b2c739",
   "metadata": {},
   "outputs": [
    {
     "name": "stdout",
     "output_type": "stream",
     "text": [
      "merhaba dünya\n"
     ]
    }
   ],
   "source": [
    "mesaj = \"MERHABA DÜNYA\"\n",
    "küçük = mesaj.lower()\n",
    "print(küçük)"
   ]
  },
  {
   "cell_type": "markdown",
   "id": "c5137cd3-8473-4125-95ad-9f9986af6737",
   "metadata": {},
   "source": [
    "3. capitalize():\n",
    "\"capitalize()\" fonksiyonu, bir stringin sadece ilk karakterini büyük harfe dönüştürmek için kullanılır. Orijinal stringdeki diğer karakterlerin hepsi küçük harfle başlar. \n",
    "İşlev değişiklik yapmadan yeni bir string döndürür. \n",
    "İşlevin kullanımı şu şekildedir:"
   ]
  },
  {
   "cell_type": "code",
   "execution_count": 3,
   "id": "fe1a5cdf-1572-4491-9f90-4da14b874d88",
   "metadata": {
    "scrolled": true
   },
   "outputs": [
    {
     "name": "stdout",
     "output_type": "stream",
     "text": [
      "Merhaba dünya\n"
     ]
    }
   ],
   "source": [
    "mesaj = \"merhaba dünya\"\n",
    "mesaj1 = mesaj.capitalize()\n",
    "print(mesaj1)"
   ]
  },
  {
   "cell_type": "markdown",
   "id": "6de29bd1-b0a3-4a6f-95dd-a63754642dd9",
   "metadata": {},
   "source": [
    "4. Dilimleme işlemi \n",
    "Python'da stringlerde dilimleme (slicing) işlemi, bir stringin belirli bir bölümünü almak veya stringi parçalara ayırmak için kullanılır. \n",
    "String dilimleme işlemini şu şekilde yapabilirsiniz:"
   ]
  },
  {
   "cell_type": "code",
   "execution_count": null,
   "id": "ffcc1925-eebf-4b47-b67e-5cb92ff0c83a",
   "metadata": {},
   "outputs": [],
   "source": [
    "text = \"Merhaba, Python\"\n",
    "\n",
    "# Belirli bir indeks aralığındaki karakterleri almak\n",
    "substring1 = text[0:7]\n",
    "print(substring1)  # Çıktı: Merhaba\n",
    "\n",
    "# İndeks aralığındaki karakterleri belirtmek için başlangıç veya bitiş indeksi belirtmeyebilirsiniz\n",
    "substring2 = text[:7]  # Başlangıç indeksi belirtilmediği için 0'dan başlar\n",
    "print(substring2)  # Çıktı: Merhaba\n",
    "\n",
    "substring3 = text[8:]  # Bitiş indeksi belirtilmediği için stringin sonuna kadar alır\n",
    "print(substring3)  # Çıktı: Python\n",
    "\n",
    "# Negatif indeksler kullanarak stringin sonundan karakterleri almak\n",
    "substring4 = text[-6:-1]\n",
    "print(substring4)  # Çıktı: Pytho\n",
    "\n",
    "# Belirli bir adımda (step) karakterleri almak\n",
    "substring5 = text[::2]  # Her ikinci karakteri alır\n",
    "print(substring5)  # Çıktı: Mraa yhn\n",
    "\n",
    "# Stringin tersini almak\n",
    "substring6 = text[::-1]\n",
    "print(substring6)  # Çıktı: nohtyP ,abahreM\n"
   ]
  },
  {
   "cell_type": "markdown",
   "id": "e8501d19-5679-4fe2-934a-6b4cdd7c8b0f",
   "metadata": {},
   "source": [
    "5. starswith ve endswith fonksiyonu\n",
    "Bir stringin başlangıç ve bitiş değerlerini kontrol etmek için \"startswith\" ve \"endswith\" fonksiyonlarını kullanırız. Bu bile bir boolean değer döndürür.\n",
    "Kullanım şu şekildedir:"
   ]
  },
  {
   "cell_type": "code",
   "execution_count": 11,
   "id": "6b09a5d9-a0f9-4589-a7a1-a71054eaaa50",
   "metadata": {},
   "outputs": [
    {
     "name": "stdout",
     "output_type": "stream",
     "text": [
      "True\n",
      "False\n",
      "True\n",
      "False\n"
     ]
    }
   ],
   "source": [
    "mesaj = \"Merhaba Dünya\"\n",
    "print(mesaj.startswith(\"Me\"))\n",
    "print(mesaj.startswith(\"me\"))\n",
    "print(mesaj.endswith(\"ya\"))\n",
    "print(mesaj.endswith(\"zc\"))"
   ]
  },
  {
   "cell_type": "markdown",
   "id": "e5b9138b-b8f2-4ba1-8e0b-ed08cae1f192",
   "metadata": {},
   "source": [
    "6. len() fonksiyonu\n",
    "Python dilinde, len() fonksiyonu bir nesnenin (örneğin, bir string, liste, demet, vb.) uzunluğunu döndürmek için kullanılır. İşlev, nesnenin içerdiği elemanların sayısını veya karakterlerin sayısını verir.\n",
    "\r\n",
    "len() fonksiyonunun kullanımı şu şekildedir:"
   ]
  },
  {
   "cell_type": "code",
   "execution_count": 12,
   "id": "e7dcec98-2c8b-4ea8-87bc-0f90aefb89d4",
   "metadata": {},
   "outputs": [
    {
     "name": "stdout",
     "output_type": "stream",
     "text": [
      "15\n"
     ]
    }
   ],
   "source": [
    "text = \"Merhaba, dünya!\"\n",
    "length = len(text)\n",
    "print(length)  # Çıktı: 15\n"
   ]
  },
  {
   "cell_type": "markdown",
   "id": "6d9b4803-ea5d-4649-a441-35208a8c87d5",
   "metadata": {},
   "source": [
    "7. STRİNG FORMATLAMA\n",
    "Python'da format() fonksiyonu, stringlerde yer tutuculara değerler yerleştirmek için kullanılır. format() fonksiyonu, bir stringin içindeki {} karakterlerini yer tutucular olarak kabul eder ve bu yer tutuculara sırasıyla değerler sağlar.\r\n",
    "\r\n",
    "format() fonksiyonunun kullanımı aşağıdaki gibi gerçekleştirir;li\n",
    "\n",
    "name = \"John\"\r\n",
    "age = 30\r\n",
    "\r\n",
    "message = \"My name is {} and I am {} years old.\".format(name, age)\r\n",
    "print(message)  # Çıktı: My name is John and I am 30 years ld.\r\n",
    "r:"
   ]
  },
  {
   "cell_type": "code",
   "execution_count": 16,
   "id": "e2adcbd0-3907-4886-ba8f-823a90637ba4",
   "metadata": {},
   "outputs": [
    {
     "name": "stdout",
     "output_type": "stream",
     "text": [
      "Benim adım Yusuf ve ben 19 yasindayim.\n"
     ]
    }
   ],
   "source": [
    "isim = \"Yusuf\"\n",
    "yas = \"19\"\n",
    "print(\"Benim adım {} ve ben {} yasindayim.\".format(isim,yas))"
   ]
  },
  {
   "cell_type": "code",
   "execution_count": 17,
   "id": "1af97a59-5d8a-4b87-ae1c-4ffeab9b2f83",
   "metadata": {},
   "outputs": [
    {
     "name": "stdout",
     "output_type": "stream",
     "text": [
      "Benim adım Yusuf ve ben 19 yasindayim.\n"
     ]
    }
   ],
   "source": [
    "isim = \"Yusuf\"\n",
    "yas = \"19\"\n",
    "print(f\"Benim adım {isim} ve ben {yas} yasindayim.\")"
   ]
  }
 ],
 "metadata": {
  "kernelspec": {
   "display_name": "Python 3 (ipykernel)",
   "language": "python",
   "name": "python3"
  },
  "language_info": {
   "codemirror_mode": {
    "name": "ipython",
    "version": 3
   },
   "file_extension": ".py",
   "mimetype": "text/x-python",
   "name": "python",
   "nbconvert_exporter": "python",
   "pygments_lexer": "ipython3",
   "version": "3.11.2"
  }
 },
 "nbformat": 4,
 "nbformat_minor": 5
}

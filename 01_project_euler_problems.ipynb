{
 "cells": [
  {
   "cell_type": "markdown",
   "metadata": {},
   "source": [
    "# Problem 1 - Multiples of 3 or 5\n",
    "\n",
    "* 3 veya 5 e kalansız bölünen 10 dan küçük tam sayılar 3, 5, 6, ve 9 dur. Bunların toplamı ise 23'tür. 1000 den küçük olup 3 veya 5 e kalansız bölünen tam sayıların toplamı kaçtır?\n",
    "\n",
    "* If we list all the natural numbers below 10 that are multiples of 3 or 5, we get 3, 5, 6 and 9. The sum of these multiples is 23. Find the sum of all the multiples of 3 or 5 below 1000."
   ]
  },
  {
   "cell_type": "code",
   "execution_count": 2,
   "metadata": {},
   "outputs": [
    {
     "name": "stdout",
     "output_type": "stream",
     "text": [
      "1000 den küçük 3 ve 5 e tam bölünen sayıların toplamı: 233168\n"
     ]
    }
   ],
   "source": [
    "'''\n",
    "Çözüm 1\n",
    "'''\n",
    "\n",
    "sum = 0\n",
    "\n",
    "for i in range(1000):\n",
    "    if i % 3 == 0 or i % 5 == 0:\n",
    "        sum += i\n",
    "\n",
    "print(f\"1000 den küçük 3 veya 5 e tam bölünen sayıların toplamı:\", sum)\n"
   ]
  },
  {
   "cell_type": "code",
   "execution_count": 3,
   "metadata": {},
   "outputs": [
    {
     "name": "stdout",
     "output_type": "stream",
     "text": [
      "233168\n"
     ]
    }
   ],
   "source": [
    "'''\n",
    "Çözüm 2\n",
    "'''\n",
    "\n",
    "def check(x):\n",
    "    if x % 3 == 0 or x % 5 == 0:\n",
    "        return True\n",
    "    else:\n",
    "        False\n",
    "\n",
    "toplam = 0\n",
    "\n",
    "\n",
    "for x in range(1000):\n",
    "    if check(x):\n",
    "        toplam += x\n",
    "\n",
    "print(toplam)\n"
   ]
  },
  {
   "cell_type": "code",
   "execution_count": null,
   "metadata": {},
   "outputs": [],
   "source": []
  }
 ],
 "metadata": {
  "kernelspec": {
   "display_name": "Python 3",
   "language": "python",
   "name": "python3"
  },
  "language_info": {
   "codemirror_mode": {
    "name": "ipython",
    "version": 3
   },
   "file_extension": ".py",
   "mimetype": "text/x-python",
   "name": "python",
   "nbconvert_exporter": "python",
   "pygments_lexer": "ipython3",
   "version": "3.11.2"
  }
 },
 "nbformat": 4,
 "nbformat_minor": 2
}

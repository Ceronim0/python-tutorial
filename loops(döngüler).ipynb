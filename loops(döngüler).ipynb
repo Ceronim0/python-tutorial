{
 "cells": [
  {
   "cell_type": "markdown",
   "id": "bafcfa51-3cc6-42fe-a9c0-2aa94c6348d6",
   "metadata": {},
   "source": [
    "# FOR DÖNGÜSÜ #\n",
    "Python'da \"for\" döngüsü, bir dizi veya ardışık veri yapısı üzerinde yineleme yapmak için kullanılır. Bu döngü, belirli bir başlangıçtan başlayarak, her adımda bir sonraki öğeye geçerek dizi veya veri yapısının tüm öğelerini dolaşır. İşte \"for\" döngüsünü detaylı bir şekilde anlatan örnekler:\r\n",
    "# \r\n",
    "Örnek 1: Liste Üzerinde Dolaş\n",
    "\n",
    "************************************************\n",
    "\n",
    "liste = [1, 2, 3, 4, 5]\r\n",
    "\r\n",
    "for eleman in liste:\r\n",
    "    print(elema\n",
    "************************************************\n",
    "\n",
    "# Örnek 2: Aralık Üzerinde Dolaşma\n",
    "\n",
    "************************************************\n",
    "\n",
    "for sayi in range(1, 6):\r\n",
    "    print(sayi)\n",
    "Bu örnekte, range(1, 6) ifadesi, 1'den başlayarak 6'ya kadar (6 hariç) olan sayıları içeren bir aralık oluşturur. for döngüsü bu aralığı dolaşır ve her bir sayıyı sayi değişkenine atar. Döngü içinde print(sayi) ifadesiyle her bir sayıyı ekrana yazdırır. Çıktı şu şekilde olur:\n",
    "\n",
    "1\r\n",
    "2\r\n",
    "3\r\n",
    "4\n",
    "************************************************\r\n",
    "# Örnek 3: Sözlük Üzerinde Dolaşma\n",
    "\n",
    "sozluk = {\"elma\": 1, \"armut\": 2, \"muz\": 3}\r\n",
    "\r\n",
    "for anahtar, deger in sozluk.items():\r\n",
    "    print(anahtar, deg\n",
    "\n",
    "Bu örnekte, sozluk adında bir sözlük tanımladık ve for döngüsünü kullanarak sözlüğün her bir öğesini anahtar ve deger değişkenlerine atadık. Döngü içinde print(anahtar, deger) ifadesiyle her bir anahtar-değer çiftini ekrana yazdırdık. Çıktı şu şekilde olur:\n",
    "\n",
    "elma 1\r\n",
    "armut 2\r\n",
    "muz 3************************************************\r\n",
    "er)\r\n",
    "\n",
    "5\r\n",
    "\r\n",
    "\n",
    "n)\r\n",
    "ma"
   ]
  },
  {
   "cell_type": "code",
   "execution_count": 2,
   "id": "e9f7cd16-6efa-42e8-8eb9-f8f03c54bf7b",
   "metadata": {},
   "outputs": [
    {
     "name": "stdout",
     "output_type": "stream",
     "text": [
      "1\n",
      "2\n",
      "3\n",
      "4\n",
      "5\n",
      "6\n"
     ]
    }
   ],
   "source": [
    "liste = [1,2,3,4,5,6]\n",
    "for rakam in liste:\n",
    "    print(rakam)"
   ]
  },
  {
   "cell_type": "code",
   "execution_count": 3,
   "id": "72fcda47-09a8-4fd7-b7ff-d71fb3f7b445",
   "metadata": {},
   "outputs": [
    {
     "name": "stdout",
     "output_type": "stream",
     "text": [
      "0\n",
      "1\n",
      "2\n",
      "3\n",
      "4\n",
      "5\n",
      "6\n",
      "7\n",
      "8\n",
      "9\n"
     ]
    }
   ],
   "source": [
    "for i in range(0,10):\n",
    "    print(i)"
   ]
  },
  {
   "cell_type": "code",
   "execution_count": 5,
   "id": "43bebffc-b791-4a1c-9563-67030b7b0337",
   "metadata": {},
   "outputs": [
    {
     "name": "stdout",
     "output_type": "stream",
     "text": [
      "1\n",
      "3\n",
      "5\n",
      "7\n",
      "9\n",
      "11\n",
      "13\n",
      "15\n"
     ]
    }
   ],
   "source": [
    "for i in range(1,17,2):\n",
    "    print(i)"
   ]
  },
  {
   "cell_type": "code",
   "execution_count": 6,
   "id": "bbd1bb17-c5ed-442a-9082-031d257cf1c7",
   "metadata": {},
   "outputs": [
    {
     "name": "stdout",
     "output_type": "stream",
     "text": [
      "1024\n"
     ]
    }
   ],
   "source": [
    "# 2 nin 10. kuvvetini hesaplama\n",
    "sonuc = 1\n",
    "for i in range(10):\n",
    "    sonuc *= 2\n",
    "print(sonuc)"
   ]
  },
  {
   "cell_type": "markdown",
   "id": "2b6bd03e-5c21-49c6-85e7-bd3d01cd5fc0",
   "metadata": {},
   "source": [
    "# İÇ İÇE DÖNGÜLER\n",
    "\n",
    "Python'da iç içe döngüler, bir döngü içinde başka bir döngü kullanmaktır. Bu, daha karmaşık yapıları ele almanızı sağlar. İç içe döngüler, özellikle matrisler, tablolar veya çok boyutlu veri yapıları gibi yapılarda kullanışlıdır. İşte iç içe döngüleri anlatan birkaç örnek:\r\n",
    "# \r\n",
    "Örnek 1: Matris İçinde Gezin\n",
    "\n",
    "************************************************\n",
    "\n",
    "matris = [[1, 2, 3],\r\n",
    "          [4, 5, 6],\r\n",
    "          [7, 8, 9]]\r\n",
    "\r\n",
    "for satir in matris:\r\n",
    "    for eleman in satir:\r\n",
    "        print(el\n",
    "************************************************\n",
    "\n",
    "Bu örnekte, matris adında bir matris tanımladık. İç içe iki for döngüsü kullanarak matrisin her bir elemanına erişiyoruz. İlk döngü, matrisin her bir satırını satir değişkenine atar. İkinci döngü, her bir satırın elemanlarını eleman değişkenine atar. Döngü içinde print(eleman) ifadesiyle her bir elemanı ekrana yazdırırız. Çıktı şu şekilde olur:\r\n",
    "************************************************\n",
    "\n",
    "1\r\n",
    "2\r\n",
    "3\r\n",
    "4\r\n",
    "5\r\n",
    "6\r\n",
    "\n",
    "************************************************\n",
    "\n",
    "# Örnek 2: İç İçe Döngülerle Çarpım Tablosu Oluşturma\n",
    "\n",
    "************************************************\n",
    "\n",
    "for i in range(1, 6):\r\n",
    "    for j in range(1, 6):\r\n",
    "        carpim = i * j\r\n",
    "        print(f\"{i} * {j} = {carpim}\n",
    "************************************************\n",
    "\n",
    "Bu örnekte, iki adet range fonksiyonu kullanarak 1'den 5'e kadar olan sayılarla iç içe döngüler oluşturduk. İlk döngüdeki her bir i değeri için ikinci döngüdeki her bir j değeriyle çarpım işlemini gerçekleştiriyoruz. Döngü içindeki print ifadesiyle her bir çarpım işlemini ekrana yazdırıyoruz. Çıktı şu şekilde olur:\n",
    "\n",
    "************************************************\n",
    "1 * 1 = 1\r\n",
    "1 * 2 = 2\r\n",
    "1 * 3 = 3\r\n",
    "1 * 4 = 4\r\n",
    "1 * 5 = 5\r\n",
    "2 * 1 = 2\r\n",
    "2 * 2 = 4\r\n",
    "2 * 3 = 6\r\n",
    "2 * 4 = 8\r\n",
    "2 * 5 = 10\r\n",
    "3 * 1 = 3\r\n",
    "3 * 2 = 6\r\n",
    "3 * 3 = 9\r\n",
    "3 * 4 = 12\r\n",
    "3 * 5 = 15\r\n",
    "4 * 1 = 4\r\n",
    "4 * 2 = 8\r\n",
    "4 * 3 = 12\r\n",
    "4 * 4 = 16\r\n",
    "4 * 5 = 20\r\n",
    "5 * 1 = 5\r\n",
    "5 * 2 = 10\r\n",
    "5 * 3 = 15\r\n",
    "************************************************\n",
    "5 * 4 = 20\r\n",
    "5 * 5 = 25\r\n",
    "\")\r\n",
    "7\r\n",
    "8\r\n",
    "9\r\n",
    "\r\n",
    "eman)\r\n",
    "me"
   ]
  },
  {
   "cell_type": "code",
   "execution_count": 13,
   "id": "47751c5c-8e02-43fc-acab-d9f5bfbf1594",
   "metadata": {},
   "outputs": [
    {
     "name": "stdout",
     "output_type": "stream",
     "text": [
      "a 1\n",
      "a 2\n",
      "a 3\n",
      "b 1\n",
      "b 2\n",
      "b 3\n",
      "c 1\n",
      "c 2\n",
      "c 3\n"
     ]
    }
   ],
   "source": [
    "liste1 = [\"a\", \"b\", \"c\",]\n",
    "liste2 = [1,2,3]\n",
    "for harf in liste1:\n",
    "    for sayi in liste2:\n",
    "        print(harf,sayi)      "
   ]
  },
  {
   "cell_type": "markdown",
   "id": "b1a34e56-0f77-447b-85b7-62fc3c3e5b7e",
   "metadata": {},
   "source": [
    "# BREAK VE CONTİNUE DEYİMLERİ\n",
    "\n",
    "break ve continue, Python'da döngülerin kontrol akışını etkileyen ifadelerdir.\r\n",
    "\r\n",
    "break ifadesi, döngüyü tamamen sonlandırır. Eğer break ifadesi içeren bir blok çalıştırılırsa, döngü hemen sona erer ve döngü sonrasındaki kod bloğuna geçer. Bu, bir döngüyü bitirmek ve döngüden çıkmak istediğiniz durumlarda kullanışlıdır.\r\n",
    "\r\n",
    "İşte bir break ifadesi kullanarak bir döngüyü sonlandırmak için basit bir ör\n",
    "\n",
    "************************************************\n",
    "\n",
    "for sayi in range(1, 10):\r\n",
    "    if sayi == 5:\r\n",
    "        break\r\n",
    "    print(say\n",
    "************************************************\n",
    "\n",
    "Bu örnekte, range(1, 10) ifadesiyle 1'den 9'a kadar olan sayılarla bir döngü oluşturduk. Her adımda, eğer sayi değişkeni 5'e eşitse, break ifadesi çalışır ve döngü sona erer. Dolayısıyla, çıktı şu şekilde olur:\n",
    "\n",
    "1\r\n",
    "2\r\n",
    "3\r\n",
    "***********************************************\n",
    "\n",
    "continue ifadesi ise döngünün o anda bulunduğu adımı atlamak ve döngünün bir sonraki adımına geçmek için kullanılır. Eğer continue ifadesi içeren bir blok çalıştırılırsa, döngünün geri kalan kısmı atlanır ve bir sonraki adıma geçilir.\r\n",
    "\r\n",
    "İşte bir continue ifadesi kullanarak bir döngüyü atlamak için basit r örnek:\n",
    "\n",
    "***********************************************\n",
    "\n",
    "for sayi in range(1, 6):\r\n",
    "    if sayi == 3:\r\n",
    "        continue\r\n",
    "    print(say\n",
    "***********************************************\n",
    "\n",
    "Bu örnekte, range(1, 6) ifadesiyle 1'den 5'e kadar olan sayılarla bir döngü oluşturduk. Her adımda, eğer sayi değişkeni 3'e eşitse, continue ifadesi çalışır ve o adım atlanır. Dolayısıyla, çıktı şu şekilde olur:\n",
    "\n",
    "1\r\n",
    "2\r\n",
    "4\r\n",
    "5\r\n",
    "i)\r\n",
    "bi\n",
    "4\r\n",
    "i)\r\n",
    "nek:"
   ]
  },
  {
   "cell_type": "code",
   "execution_count": 25,
   "id": "048be1cb-172b-4d41-8788-87bf95807204",
   "metadata": {},
   "outputs": [
    {
     "name": "stdout",
     "output_type": "stream",
     "text": [
      "1\n",
      "2\n",
      "4\n",
      "5\n",
      "6\n",
      "7\n",
      "8\n",
      "9\n"
     ]
    }
   ],
   "source": [
    "# 3 ü atlama\n",
    "liste = [1,2,3,4,5,6,7,8,9]\n",
    "for i in liste:\n",
    "    if i ==3:\n",
    "        continue\n",
    "    print(i)"
   ]
  },
  {
   "cell_type": "code",
   "execution_count": 22,
   "id": "980ba2d2-e70c-43f1-93da-e85ba59bdf83",
   "metadata": {
    "scrolled": true
   },
   "outputs": [
    {
     "name": "stdout",
     "output_type": "stream",
     "text": [
      "0\n",
      "3\n",
      "6\n",
      "9\n",
      "12\n",
      "15\n",
      "18\n",
      "21\n",
      "24\n",
      "27\n",
      "30\n",
      "33\n",
      "36\n",
      "39\n",
      "42\n",
      "45\n",
      "48\n",
      "51\n",
      "54\n",
      "57\n",
      "60\n",
      "63\n",
      "66\n",
      "69\n",
      "72\n",
      "75\n",
      "78\n"
     ]
    }
   ],
   "source": [
    "# 3 ile bölünen sayıları yazdıp 81 i görünce döngüden çıkma\n",
    "numbers = range(100)\n",
    "for i in numbers:\n",
    "    if i % 3 != 0:\n",
    "        continue\n",
    "    if i == 81:\n",
    "        break\n",
    "    print(i)"
   ]
  }
 ],
 "metadata": {
  "kernelspec": {
   "display_name": "Python 3 (ipykernel)",
   "language": "python",
   "name": "python3"
  },
  "language_info": {
   "codemirror_mode": {
    "name": "ipython",
    "version": 3
   },
   "file_extension": ".py",
   "mimetype": "text/x-python",
   "name": "python",
   "nbconvert_exporter": "python",
   "pygments_lexer": "ipython3",
   "version": "3.11.2"
  }
 },
 "nbformat": 4,
 "nbformat_minor": 5
}
